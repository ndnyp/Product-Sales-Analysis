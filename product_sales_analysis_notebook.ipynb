{
 "cells": [
  {
   "attachments": {},
   "cell_type": "markdown",
   "metadata": {},
   "source": [
    "# Sales Product Analysis\n",
    "\n",
    "## Description\n",
    "This project is dedicated to organizing and analyzing information about product sales analysis to identify trends and generate insights. This project includes an analysis of the top-performing and underperforming products or services, areas, or states with the top sales. Data cleaning are performed using Python, Jupyter Notebooks, and Pandas library.\n",
    "\n",
    "## Data Overview\n",
    "Sales Product Data from [Kaggle dataset](https://www.kaggle.com/datasets/knightbearr/sales-product-data?resource=download&select=Sales_September_2019.csv) is used in this analysis. It has 6 fields, such as OrderID, Product, Quantity, Price, Order Data, and Purchase Address, with around 180,000 observations that span 12 months in the year of 2019.\n",
    "\n",
    "## Research Questions\n",
    "1. What was the total orders and total sales by month?\n",
    "    - What was the best month for sales?\n",
    "    - What is the best time to display advertisements to maximize the customers' purchase?\n",
    "2. What area (state or city) with the highest number of sales?\n",
    "    - Which product was the most popular in the state or city with the highest sales?\n",
    "3. What product with the highest overall number of order? \n",
    "    - What products are most often sold together?"
   ]
  },
  {
   "attachments": {},
   "cell_type": "markdown",
   "metadata": {},
   "source": [
    "## Setup and Data Preparation"
   ]
  },
  {
   "attachments": {},
   "cell_type": "markdown",
   "metadata": {},
   "source": [
    "### Import packages and dataset"
   ]
  },
  {
   "cell_type": "code",
   "execution_count": 240,
   "metadata": {},
   "outputs": [],
   "source": [
    "# Import packages\n",
    "import pandas as pd\n",
    "import numpy as np\n",
    "import os\n",
    "import glob\n",
    "import warnings\n",
    "import matplotlib.pyplot as plt\n",
    "import seaborn as sns\n",
    "import matplotlib.ticker as ticker\n",
    "\n",
    "from datetime import datetime\n",
    "\n",
    "pd.set_option('display.float_format', lambda x: '%.3f' % x)\n",
    "warnings.filterwarnings('ignore')"
   ]
  },
  {
   "cell_type": "code",
   "execution_count": 241,
   "metadata": {},
   "outputs": [],
   "source": [
    "# Read all 12 months dataset\n",
    "\n",
    "# Read sample data\n",
    "df = pd.read_csv(\"./Raw Data/01_Sales_January_2019.csv\")\n",
    "# df.head()\n",
    "\n",
    "# Append all 12 months data\n",
    "all_files = glob.glob(\"./Raw Data/*.csv\", recursive=True)\n",
    "\n",
    "all_data = []\n",
    "\n",
    "for file in all_files:\n",
    "    df = pd.read_csv(file, index_col=None, header=0)\n",
    "    all_data.append(df)\n",
    "\n",
    "df_raw = pd.concat(all_data, axis=0)\n",
    "\n",
    "# Save all data to new csv files\n",
    "df_raw.to_csv(\"all_months_data.csv\", index=False)"
   ]
  },
  {
   "cell_type": "code",
   "execution_count": 242,
   "metadata": {},
   "outputs": [
    {
     "data": {
      "text/html": [
       "<div>\n",
       "<style scoped>\n",
       "    .dataframe tbody tr th:only-of-type {\n",
       "        vertical-align: middle;\n",
       "    }\n",
       "\n",
       "    .dataframe tbody tr th {\n",
       "        vertical-align: top;\n",
       "    }\n",
       "\n",
       "    .dataframe thead th {\n",
       "        text-align: right;\n",
       "    }\n",
       "</style>\n",
       "<table border=\"1\" class=\"dataframe\">\n",
       "  <thead>\n",
       "    <tr style=\"text-align: right;\">\n",
       "      <th></th>\n",
       "      <th>Order ID</th>\n",
       "      <th>Product</th>\n",
       "      <th>Quantity Ordered</th>\n",
       "      <th>Price Each</th>\n",
       "      <th>Order Date</th>\n",
       "      <th>Purchase Address</th>\n",
       "    </tr>\n",
       "  </thead>\n",
       "  <tbody>\n",
       "    <tr>\n",
       "      <th>0</th>\n",
       "      <td>194095</td>\n",
       "      <td>Wired Headphones</td>\n",
       "      <td>1</td>\n",
       "      <td>11.99</td>\n",
       "      <td>05/16/19 17:14</td>\n",
       "      <td>669 2nd St, New York City, NY 10001</td>\n",
       "    </tr>\n",
       "    <tr>\n",
       "      <th>1</th>\n",
       "      <td>194096</td>\n",
       "      <td>AA Batteries (4-pack)</td>\n",
       "      <td>1</td>\n",
       "      <td>3.84</td>\n",
       "      <td>05/19/19 14:43</td>\n",
       "      <td>844 Walnut St, Dallas, TX 75001</td>\n",
       "    </tr>\n",
       "    <tr>\n",
       "      <th>2</th>\n",
       "      <td>194097</td>\n",
       "      <td>27in FHD Monitor</td>\n",
       "      <td>1</td>\n",
       "      <td>149.99</td>\n",
       "      <td>05/24/19 11:36</td>\n",
       "      <td>164 Madison St, New York City, NY 10001</td>\n",
       "    </tr>\n",
       "    <tr>\n",
       "      <th>3</th>\n",
       "      <td>194098</td>\n",
       "      <td>Wired Headphones</td>\n",
       "      <td>1</td>\n",
       "      <td>11.99</td>\n",
       "      <td>05/02/19 20:40</td>\n",
       "      <td>622 Meadow St, Dallas, TX 75001</td>\n",
       "    </tr>\n",
       "    <tr>\n",
       "      <th>4</th>\n",
       "      <td>194099</td>\n",
       "      <td>AAA Batteries (4-pack)</td>\n",
       "      <td>2</td>\n",
       "      <td>2.99</td>\n",
       "      <td>05/11/19 22:55</td>\n",
       "      <td>17 Church St, Seattle, WA 98101</td>\n",
       "    </tr>\n",
       "  </tbody>\n",
       "</table>\n",
       "</div>"
      ],
      "text/plain": [
       "  Order ID                 Product Quantity Ordered Price Each  \\\n",
       "0   194095        Wired Headphones                1      11.99   \n",
       "1   194096   AA Batteries (4-pack)                1       3.84   \n",
       "2   194097        27in FHD Monitor                1     149.99   \n",
       "3   194098        Wired Headphones                1      11.99   \n",
       "4   194099  AAA Batteries (4-pack)                2       2.99   \n",
       "\n",
       "       Order Date                         Purchase Address  \n",
       "0  05/16/19 17:14      669 2nd St, New York City, NY 10001  \n",
       "1  05/19/19 14:43          844 Walnut St, Dallas, TX 75001  \n",
       "2  05/24/19 11:36  164 Madison St, New York City, NY 10001  \n",
       "3  05/02/19 20:40          622 Meadow St, Dallas, TX 75001  \n",
       "4  05/11/19 22:55          17 Church St, Seattle, WA 98101  "
      ]
     },
     "execution_count": 242,
     "metadata": {},
     "output_type": "execute_result"
    }
   ],
   "source": [
    "# Import newly appended dataset and provide dataset overview\n",
    "data_name = \"./all_months_data.csv\"\n",
    "\n",
    "df_raw = pd.read_csv(data_name)\n",
    "df_raw.head()"
   ]
  },
  {
   "cell_type": "code",
   "execution_count": 243,
   "metadata": {},
   "outputs": [
    {
     "name": "stdout",
     "output_type": "stream",
     "text": [
      "Dataset shape: (186850, 6)\n",
      "Number of columns : 6\n",
      "Number of records : 186850 \n",
      "\n",
      "Order ID            object\n",
      "Product             object\n",
      "Quantity Ordered    object\n",
      "Price Each          object\n",
      "Order Date          object\n",
      "Purchase Address    object\n",
      "dtype: object \n",
      "\n",
      "Column names:\n",
      "['Order ID', 'Product', 'Quantity Ordered', 'Price Each', 'Order Date', 'Purchase Address']\n"
     ]
    }
   ],
   "source": [
    "# Print the shape of main dataset\n",
    "print(\"Dataset shape:\", df_raw.shape)\n",
    "print('Number of columns :', df_raw.shape[1])\n",
    "print('Number of records :', df_raw.shape[0], '\\n')\n",
    "\n",
    "print(df_raw.dtypes, '\\n')\n",
    "\n",
    "# Print the column values in the dataframe\n",
    "print(\"Column names:\")\n",
    "print(list(df_raw.columns.values))"
   ]
  },
  {
   "attachments": {},
   "cell_type": "markdown",
   "metadata": {},
   "source": [
    "### Data Cleaning\n",
    "This step includes checking missing and duplicate values and changing datatype."
   ]
  },
  {
   "cell_type": "code",
   "execution_count": 244,
   "metadata": {},
   "outputs": [
    {
     "data": {
      "text/html": [
       "<div>\n",
       "<style scoped>\n",
       "    .dataframe tbody tr th:only-of-type {\n",
       "        vertical-align: middle;\n",
       "    }\n",
       "\n",
       "    .dataframe tbody tr th {\n",
       "        vertical-align: top;\n",
       "    }\n",
       "\n",
       "    .dataframe thead th {\n",
       "        text-align: right;\n",
       "    }\n",
       "</style>\n",
       "<table border=\"1\" class=\"dataframe\">\n",
       "  <thead>\n",
       "    <tr style=\"text-align: right;\">\n",
       "      <th></th>\n",
       "      <th>missing_count</th>\n",
       "    </tr>\n",
       "  </thead>\n",
       "  <tbody>\n",
       "    <tr>\n",
       "      <th>Order ID</th>\n",
       "      <td>545</td>\n",
       "    </tr>\n",
       "    <tr>\n",
       "      <th>Product</th>\n",
       "      <td>545</td>\n",
       "    </tr>\n",
       "    <tr>\n",
       "      <th>Quantity Ordered</th>\n",
       "      <td>545</td>\n",
       "    </tr>\n",
       "    <tr>\n",
       "      <th>Price Each</th>\n",
       "      <td>545</td>\n",
       "    </tr>\n",
       "    <tr>\n",
       "      <th>Order Date</th>\n",
       "      <td>545</td>\n",
       "    </tr>\n",
       "    <tr>\n",
       "      <th>Purchase Address</th>\n",
       "      <td>545</td>\n",
       "    </tr>\n",
       "  </tbody>\n",
       "</table>\n",
       "</div>"
      ],
      "text/plain": [
       "                  missing_count\n",
       "Order ID                    545\n",
       "Product                     545\n",
       "Quantity Ordered            545\n",
       "Price Each                  545\n",
       "Order Date                  545\n",
       "Purchase Address            545"
      ]
     },
     "execution_count": 244,
     "metadata": {},
     "output_type": "execute_result"
    }
   ],
   "source": [
    "# Check missing values\n",
    "missing_val = pd.DataFrame(df_raw.isnull().sum())\n",
    "missing_val.columns = [\"missing_count\"]\n",
    "missing_val"
   ]
  },
  {
   "cell_type": "code",
   "execution_count": 245,
   "metadata": {},
   "outputs": [
    {
     "data": {
      "text/plain": [
       "Order ID            0\n",
       "Product             0\n",
       "Quantity Ordered    0\n",
       "Price Each          0\n",
       "Order Date          0\n",
       "Purchase Address    0\n",
       "dtype: int64"
      ]
     },
     "execution_count": 245,
     "metadata": {},
     "output_type": "execute_result"
    }
   ],
   "source": [
    "# Drop missing values and recheck\n",
    "df_raw.dropna(inplace=True)\n",
    "\n",
    "df_raw.isnull().sum()"
   ]
  },
  {
   "cell_type": "code",
   "execution_count": 246,
   "metadata": {},
   "outputs": [
    {
     "name": "stdout",
     "output_type": "stream",
     "text": [
      "Number of duplicate rows: 618\n"
     ]
    }
   ],
   "source": [
    "# Check duplicate values\n",
    "duplicateRows = df_raw[df_raw.duplicated()]\n",
    "print(\"Number of duplicate rows: \" + str(len(duplicateRows)))"
   ]
  },
  {
   "cell_type": "code",
   "execution_count": 247,
   "metadata": {},
   "outputs": [],
   "source": [
    "# Remove duplicate rows and header values\n",
    "df_raw.drop_duplicates(inplace=True)\n",
    "\n",
    "df = df_raw[df_raw[\"Order ID\"] != \"Order ID\"]"
   ]
  },
  {
   "attachments": {},
   "cell_type": "markdown",
   "metadata": {},
   "source": [
    "Change current datatypes:\n",
    "- Order ID: integer\n",
    "- Quantity Ordered: integer\n",
    "- Price Each: float\n",
    "- Order Date: date"
   ]
  },
  {
   "cell_type": "code",
   "execution_count": 248,
   "metadata": {},
   "outputs": [],
   "source": [
    "# Change datatypes\n",
    "df[\"Order ID\"] = pd.to_numeric(df[\"Order ID\"])\n",
    "df[\"Quantity Ordered\"] = pd.to_numeric(df[\"Quantity Ordered\"])\n",
    "df[\"Price Each\"] = pd.to_numeric(df[\"Price Each\"])\n",
    "df[\"Order Date\"] = pd.to_datetime(df['Order Date'])"
   ]
  },
  {
   "attachments": {},
   "cell_type": "markdown",
   "metadata": {},
   "source": [
    "### Data Transformation\n",
    "This step includes extracting month and year from Order Date, calculating sales (price * qty), as well as adding city and states columns."
   ]
  },
  {
   "attachments": {},
   "cell_type": "markdown",
   "metadata": {},
   "source": [
    "Task 1: Extracting month and year from 'Order Date' column"
   ]
  },
  {
   "cell_type": "code",
   "execution_count": 249,
   "metadata": {},
   "outputs": [],
   "source": [
    "# Extract month and year from Order Date\n",
    "df['month'] = df['Order Date'].dt.month\n",
    "df['month_name'] = df['Order Date'].dt.strftime('%b')\n",
    "df['year'] = df['Order Date'].dt.year\n",
    "df['year_month'] = df['Order Date'].dt.strftime('%Y-%m')"
   ]
  },
  {
   "attachments": {},
   "cell_type": "markdown",
   "metadata": {},
   "source": [
    "Task 2: Extracting hour and minute from 'Order Date' column"
   ]
  },
  {
   "cell_type": "code",
   "execution_count": 250,
   "metadata": {},
   "outputs": [],
   "source": [
    "# Extract hour and minute from Order Date\n",
    "df['hour'] = df['Order Date'].dt.hour\n",
    "df['minute'] = df['Order Date'].dt.minute"
   ]
  },
  {
   "attachments": {},
   "cell_type": "markdown",
   "metadata": {},
   "source": [
    "Task 3: Calculating sales column (price * qty)"
   ]
  },
  {
   "cell_type": "code",
   "execution_count": 251,
   "metadata": {},
   "outputs": [],
   "source": [
    "# Create new columns for total sales\n",
    "df['sales'] = df['Quantity Ordered'] * df['Price Each']"
   ]
  },
  {
   "attachments": {},
   "cell_type": "markdown",
   "metadata": {},
   "source": [
    "Task 4: Adding city and states column"
   ]
  },
  {
   "cell_type": "code",
   "execution_count": 252,
   "metadata": {},
   "outputs": [],
   "source": [
    "# Create function \"get_city\" to extract city and \"get_states\" to extract states from 'Purchase Address' column\n",
    "def get_city(address):\n",
    "    return address.split(',')[1]\n",
    "\n",
    "def get_state(address):\n",
    "    first_split = address.split(',')[2]\n",
    "    return first_split.split(' ')[1]\n",
    "\n",
    "# Add city and state columns\n",
    "df['city'] = df['Purchase Address'].apply(lambda x: get_city(x))\n",
    "df['state'] = df['Purchase Address'].apply(lambda x: get_state(x))\n",
    "\n",
    "# Concat city and state columns\n",
    "df['city_state'] = df['city'] + \", \" + df['state']"
   ]
  },
  {
   "attachments": {},
   "cell_type": "markdown",
   "metadata": {},
   "source": [
    "## Data Exploration\n",
    "### Descriptive Statistics"
   ]
  },
  {
   "cell_type": "code",
   "execution_count": 253,
   "metadata": {},
   "outputs": [
    {
     "data": {
      "text/html": [
       "<div>\n",
       "<style scoped>\n",
       "    .dataframe tbody tr th:only-of-type {\n",
       "        vertical-align: middle;\n",
       "    }\n",
       "\n",
       "    .dataframe tbody tr th {\n",
       "        vertical-align: top;\n",
       "    }\n",
       "\n",
       "    .dataframe thead th {\n",
       "        text-align: right;\n",
       "    }\n",
       "</style>\n",
       "<table border=\"1\" class=\"dataframe\">\n",
       "  <thead>\n",
       "    <tr style=\"text-align: right;\">\n",
       "      <th></th>\n",
       "      <th>Order ID</th>\n",
       "      <th>Quantity Ordered</th>\n",
       "      <th>Price Each</th>\n",
       "      <th>month</th>\n",
       "      <th>year</th>\n",
       "      <th>hour</th>\n",
       "      <th>minute</th>\n",
       "      <th>sales</th>\n",
       "    </tr>\n",
       "  </thead>\n",
       "  <tbody>\n",
       "    <tr>\n",
       "      <th>count</th>\n",
       "      <td>185686.000</td>\n",
       "      <td>185686.000</td>\n",
       "      <td>185686.000</td>\n",
       "      <td>185686.000</td>\n",
       "      <td>185686.000</td>\n",
       "      <td>185686.000</td>\n",
       "      <td>185686.000</td>\n",
       "      <td>185686.000</td>\n",
       "    </tr>\n",
       "    <tr>\n",
       "      <th>mean</th>\n",
       "      <td>230411.376</td>\n",
       "      <td>1.125</td>\n",
       "      <td>184.519</td>\n",
       "      <td>7.059</td>\n",
       "      <td>2019.000</td>\n",
       "      <td>14.413</td>\n",
       "      <td>29.481</td>\n",
       "      <td>185.612</td>\n",
       "    </tr>\n",
       "    <tr>\n",
       "      <th>std</th>\n",
       "      <td>51511.717</td>\n",
       "      <td>0.443</td>\n",
       "      <td>332.844</td>\n",
       "      <td>3.503</td>\n",
       "      <td>0.014</td>\n",
       "      <td>5.423</td>\n",
       "      <td>17.318</td>\n",
       "      <td>333.032</td>\n",
       "    </tr>\n",
       "    <tr>\n",
       "      <th>min</th>\n",
       "      <td>141234.000</td>\n",
       "      <td>1.000</td>\n",
       "      <td>2.990</td>\n",
       "      <td>1.000</td>\n",
       "      <td>2019.000</td>\n",
       "      <td>0.000</td>\n",
       "      <td>0.000</td>\n",
       "      <td>2.990</td>\n",
       "    </tr>\n",
       "    <tr>\n",
       "      <th>25%</th>\n",
       "      <td>185833.250</td>\n",
       "      <td>1.000</td>\n",
       "      <td>11.950</td>\n",
       "      <td>4.000</td>\n",
       "      <td>2019.000</td>\n",
       "      <td>11.000</td>\n",
       "      <td>14.000</td>\n",
       "      <td>11.950</td>\n",
       "    </tr>\n",
       "    <tr>\n",
       "      <th>50%</th>\n",
       "      <td>230354.500</td>\n",
       "      <td>1.000</td>\n",
       "      <td>14.950</td>\n",
       "      <td>7.000</td>\n",
       "      <td>2019.000</td>\n",
       "      <td>15.000</td>\n",
       "      <td>29.000</td>\n",
       "      <td>14.950</td>\n",
       "    </tr>\n",
       "    <tr>\n",
       "      <th>75%</th>\n",
       "      <td>275028.750</td>\n",
       "      <td>1.000</td>\n",
       "      <td>150.000</td>\n",
       "      <td>10.000</td>\n",
       "      <td>2019.000</td>\n",
       "      <td>19.000</td>\n",
       "      <td>45.000</td>\n",
       "      <td>150.000</td>\n",
       "    </tr>\n",
       "    <tr>\n",
       "      <th>max</th>\n",
       "      <td>319670.000</td>\n",
       "      <td>9.000</td>\n",
       "      <td>1700.000</td>\n",
       "      <td>12.000</td>\n",
       "      <td>2020.000</td>\n",
       "      <td>23.000</td>\n",
       "      <td>59.000</td>\n",
       "      <td>3400.000</td>\n",
       "    </tr>\n",
       "  </tbody>\n",
       "</table>\n",
       "</div>"
      ],
      "text/plain": [
       "        Order ID  Quantity Ordered  Price Each      month       year  \\\n",
       "count 185686.000        185686.000  185686.000 185686.000 185686.000   \n",
       "mean  230411.376             1.125     184.519      7.059   2019.000   \n",
       "std    51511.717             0.443     332.844      3.503      0.014   \n",
       "min   141234.000             1.000       2.990      1.000   2019.000   \n",
       "25%   185833.250             1.000      11.950      4.000   2019.000   \n",
       "50%   230354.500             1.000      14.950      7.000   2019.000   \n",
       "75%   275028.750             1.000     150.000     10.000   2019.000   \n",
       "max   319670.000             9.000    1700.000     12.000   2020.000   \n",
       "\n",
       "            hour     minute      sales  \n",
       "count 185686.000 185686.000 185686.000  \n",
       "mean      14.413     29.481    185.612  \n",
       "std        5.423     17.318    333.032  \n",
       "min        0.000      0.000      2.990  \n",
       "25%       11.000     14.000     11.950  \n",
       "50%       15.000     29.000     14.950  \n",
       "75%       19.000     45.000    150.000  \n",
       "max       23.000     59.000   3400.000  "
      ]
     },
     "execution_count": 253,
     "metadata": {},
     "output_type": "execute_result"
    }
   ],
   "source": [
    "df.describe()"
   ]
  },
  {
   "attachments": {},
   "cell_type": "markdown",
   "metadata": {},
   "source": [
    "## Analysis"
   ]
  },
  {
   "attachments": {},
   "cell_type": "markdown",
   "metadata": {},
   "source": [
    "#### Number of orders and sales by month"
   ]
  },
  {
   "cell_type": "code",
   "execution_count": 254,
   "metadata": {},
   "outputs": [
    {
     "data": {
      "text/html": [
       "<div>\n",
       "<style scoped>\n",
       "    .dataframe tbody tr th:only-of-type {\n",
       "        vertical-align: middle;\n",
       "    }\n",
       "\n",
       "    .dataframe tbody tr th {\n",
       "        vertical-align: top;\n",
       "    }\n",
       "\n",
       "    .dataframe thead th {\n",
       "        text-align: right;\n",
       "    }\n",
       "</style>\n",
       "<table border=\"1\" class=\"dataframe\">\n",
       "  <thead>\n",
       "    <tr style=\"text-align: right;\">\n",
       "      <th></th>\n",
       "      <th>year_month</th>\n",
       "      <th>total_order</th>\n",
       "      <th>total_sales</th>\n",
       "    </tr>\n",
       "  </thead>\n",
       "  <tbody>\n",
       "    <tr>\n",
       "      <th>0</th>\n",
       "      <td>2019-01</td>\n",
       "      <td>9262</td>\n",
       "      <td>1812742.870</td>\n",
       "    </tr>\n",
       "    <tr>\n",
       "      <th>1</th>\n",
       "      <td>2019-02</td>\n",
       "      <td>11496</td>\n",
       "      <td>2200078.080</td>\n",
       "    </tr>\n",
       "    <tr>\n",
       "      <th>2</th>\n",
       "      <td>2019-03</td>\n",
       "      <td>14549</td>\n",
       "      <td>2804973.350</td>\n",
       "    </tr>\n",
       "    <tr>\n",
       "      <th>3</th>\n",
       "      <td>2019-04</td>\n",
       "      <td>17528</td>\n",
       "      <td>3389217.980</td>\n",
       "    </tr>\n",
       "    <tr>\n",
       "      <th>4</th>\n",
       "      <td>2019-05</td>\n",
       "      <td>15836</td>\n",
       "      <td>3150616.230</td>\n",
       "    </tr>\n",
       "    <tr>\n",
       "      <th>5</th>\n",
       "      <td>2019-06</td>\n",
       "      <td>12989</td>\n",
       "      <td>2576280.150</td>\n",
       "    </tr>\n",
       "    <tr>\n",
       "      <th>6</th>\n",
       "      <td>2019-07</td>\n",
       "      <td>13761</td>\n",
       "      <td>2646461.320</td>\n",
       "    </tr>\n",
       "    <tr>\n",
       "      <th>7</th>\n",
       "      <td>2019-08</td>\n",
       "      <td>11484</td>\n",
       "      <td>2241083.370</td>\n",
       "    </tr>\n",
       "    <tr>\n",
       "      <th>8</th>\n",
       "      <td>2019-09</td>\n",
       "      <td>11202</td>\n",
       "      <td>2094465.690</td>\n",
       "    </tr>\n",
       "    <tr>\n",
       "      <th>9</th>\n",
       "      <td>2019-10</td>\n",
       "      <td>19436</td>\n",
       "      <td>3734777.860</td>\n",
       "    </tr>\n",
       "    <tr>\n",
       "      <th>10</th>\n",
       "      <td>2019-11</td>\n",
       "      <td>16859</td>\n",
       "      <td>3197875.050</td>\n",
       "    </tr>\n",
       "    <tr>\n",
       "      <th>11</th>\n",
       "      <td>2019-12</td>\n",
       "      <td>24004</td>\n",
       "      <td>4608295.700</td>\n",
       "    </tr>\n",
       "    <tr>\n",
       "      <th>12</th>\n",
       "      <td>2020-01</td>\n",
       "      <td>31</td>\n",
       "      <td>8670.290</td>\n",
       "    </tr>\n",
       "  </tbody>\n",
       "</table>\n",
       "</div>"
      ],
      "text/plain": [
       "   year_month  total_order  total_sales\n",
       "0     2019-01         9262  1812742.870\n",
       "1     2019-02        11496  2200078.080\n",
       "2     2019-03        14549  2804973.350\n",
       "3     2019-04        17528  3389217.980\n",
       "4     2019-05        15836  3150616.230\n",
       "5     2019-06        12989  2576280.150\n",
       "6     2019-07        13761  2646461.320\n",
       "7     2019-08        11484  2241083.370\n",
       "8     2019-09        11202  2094465.690\n",
       "9     2019-10        19436  3734777.860\n",
       "10    2019-11        16859  3197875.050\n",
       "11    2019-12        24004  4608295.700\n",
       "12    2020-01           31     8670.290"
      ]
     },
     "execution_count": 254,
     "metadata": {},
     "output_type": "execute_result"
    }
   ],
   "source": [
    "# Calculate total number of orders and sales by month\n",
    "monthly_data = df.groupby(by=['year_month'], as_index=False).agg(\n",
    "    total_order = ('Order ID', pd.Series.nunique),\n",
    "    total_sales = ('sales', sum),\n",
    "    \n",
    ")\n",
    "\n",
    "monthly_data"
   ]
  },
  {
   "cell_type": "code",
   "execution_count": 255,
   "metadata": {},
   "outputs": [
    {
     "data": {
      "text/plain": [
       "Text(-0.3, 2871405.6375000007, 'mean = 2,871,406')"
      ]
     },
     "execution_count": 255,
     "metadata": {},
     "output_type": "execute_result"
    },
    {
     "data": {
      "image/png": "[encoded data removed]",
      "text/plain": [
       "<Figure size 1440x576 with 2 Axes>"
      ]
     },
     "metadata": {
      "needs_background": "light"
     },
     "output_type": "display_data"
    }
   ],
   "source": [
    "# Create bar chart for total order and total sales by month\n",
    "\n",
    "# Remove 2020-01 data since it only has small observations\n",
    "sub_monthly_data = monthly_data[monthly_data['year_month'] != '2020-01']\n",
    "\n",
    "# Define subplot grid\n",
    "fig, (ax0, ax1) = plt.subplots(1,2, figsize = [20,8], sharex=False)\n",
    "fig.tight_layout()\n",
    "fig.set_tight_layout(True)\n",
    "fig.suptitle(\"Total Order and Total Sales by Month\", fontsize=18, y=1)\n",
    "fig.subplots_adjust(top=1.5, hspace=.5, wspace=.5)\n",
    "\n",
    "# Total order by month\n",
    "sns.barplot(data = sub_monthly_data, x = 'year_month', y = 'total_order', ax = ax0, color=\"#2596be\")\n",
    "ylab = ax0.set_ylabel('Total Order')\n",
    "xlab = ax0.set_xlabel(None)\n",
    "ax0.set_title('Total Order by month')\n",
    "ax0.yaxis.set_major_formatter(ticker.StrMethodFormatter('{x:,.0f}'))\n",
    "ax0.axhline(sub_monthly_data['total_order'].mean(), color = \"#040f13\", linestyle='--', label = \"mean\")\n",
    "ax0.annotate('mean = ' + str(format(sub_monthly_data['total_order'].mean(), ',.0f')), xy = (ax0.get_xlim()[0]+0.2, sub_monthly_data['total_order'].mean()), ha = \"left\", va=\"bottom\", color = \"#040f13\")\n",
    "\n",
    "# Total sales by month\n",
    "sns.barplot(data = sub_monthly_data, x = 'year_month', y = 'total_sales', ax = ax1, color=\"#50a45e\")\n",
    "ylab = ax1.set_ylabel('Total Sales (USD)')\n",
    "xlab = ax1.set_xlabel(None)\n",
    "ax1.set_title('Total Sales by month')\n",
    "ax1.yaxis.set_major_formatter(ticker.StrMethodFormatter('{x:,.0f}'))\n",
    "ax1.axhline(sub_monthly_data['total_sales'].mean(), color = \"#040f13\", linestyle='--', label = \"mean\")\n",
    "ax1.annotate('mean = ' + str(format(sub_monthly_data['total_sales'].mean(), ',.0f')), xy = (ax0.get_xlim()[0]+0.2, sub_monthly_data['total_sales'].mean()), ha = \"left\", va=\"bottom\", color = \"#040f13\")\n"
   ]
  },
  {
   "attachments": {},
   "cell_type": "markdown",
   "metadata": {},
   "source": [
    "### Best time to place product advertisements"
   ]
  },
  {
   "cell_type": "code",
   "execution_count": 256,
   "metadata": {},
   "outputs": [
    {
     "data": {
      "text/html": [
       "<div>\n",
       "<style scoped>\n",
       "    .dataframe tbody tr th:only-of-type {\n",
       "        vertical-align: middle;\n",
       "    }\n",
       "\n",
       "    .dataframe tbody tr th {\n",
       "        vertical-align: top;\n",
       "    }\n",
       "\n",
       "    .dataframe thead th {\n",
       "        text-align: right;\n",
       "    }\n",
       "</style>\n",
       "<table border=\"1\" class=\"dataframe\">\n",
       "  <thead>\n",
       "    <tr style=\"text-align: right;\">\n",
       "      <th></th>\n",
       "      <th>hour</th>\n",
       "      <th>total_order</th>\n",
       "      <th>total_sales</th>\n",
       "    </tr>\n",
       "  </thead>\n",
       "  <tbody>\n",
       "    <tr>\n",
       "      <th>0</th>\n",
       "      <td>0</td>\n",
       "      <td>3748</td>\n",
       "      <td>710887.980</td>\n",
       "    </tr>\n",
       "    <tr>\n",
       "      <th>1</th>\n",
       "      <td>1</td>\n",
       "      <td>2246</td>\n",
       "      <td>458258.990</td>\n",
       "    </tr>\n",
       "    <tr>\n",
       "      <th>2</th>\n",
       "      <td>2</td>\n",
       "      <td>1192</td>\n",
       "      <td>232574.510</td>\n",
       "    </tr>\n",
       "    <tr>\n",
       "      <th>3</th>\n",
       "      <td>3</td>\n",
       "      <td>801</td>\n",
       "      <td>144683.040</td>\n",
       "    </tr>\n",
       "    <tr>\n",
       "      <th>4</th>\n",
       "      <td>4</td>\n",
       "      <td>810</td>\n",
       "      <td>162281.150</td>\n",
       "    </tr>\n",
       "  </tbody>\n",
       "</table>\n",
       "</div>"
      ],
      "text/plain": [
       "   hour  total_order  total_sales\n",
       "0     0         3748   710887.980\n",
       "1     1         2246   458258.990\n",
       "2     2         1192   232574.510\n",
       "3     3          801   144683.040\n",
       "4     4          810   162281.150"
      ]
     },
     "execution_count": 256,
     "metadata": {},
     "output_type": "execute_result"
    }
   ],
   "source": [
    "# Calculate total number of sales by hour\n",
    "hour_data = df_sub.groupby(by=['hour'], as_index=False).agg(\n",
    "    total_order = ('Order ID', pd.Series.nunique),\n",
    "    total_sales = ('sales', sum),\n",
    "    \n",
    ")\n",
    "\n",
    "hour_data.sort_values('hour', ascending=True).head()"
   ]
  },
  {
   "cell_type": "code",
   "execution_count": 257,
   "metadata": {},
   "outputs": [
    {
     "data": {
      "text/plain": [
       "Text(-0.5500000000000002, 1435702.8187499999, 'mean = 1,435,703')"
      ]
     },
     "execution_count": 257,
     "metadata": {},
     "output_type": "execute_result"
    },
    {
     "data": {
      "image/png": "[encoded data removed]",
      "text/plain": [
       "<Figure size 1440x576 with 2 Axes>"
      ]
     },
     "metadata": {
      "needs_background": "light"
     },
     "output_type": "display_data"
    }
   ],
   "source": [
    "# Create line chart for total order and sales by hour\n",
    "\n",
    "# Define subplot grid\n",
    "fig, (ax0, ax1) = plt.subplots(1,2, figsize = [20,8], sharex=False)\n",
    "fig.tight_layout()\n",
    "fig.set_tight_layout(True)\n",
    "fig.suptitle(\"Total order and Total Sales in USD by Hour\", fontsize=18, y=1)\n",
    "fig.subplots_adjust(top=1.5, hspace=.5, wspace=.5)\n",
    "\n",
    "# Total order by hour\n",
    "sns.lineplot(data = hour_data.sort_values('hour', ascending=True), x = 'hour', y = 'total_order', ax = ax0, color=\"#2596be\")\n",
    "ylab = ax0.set_ylabel('Total Order')\n",
    "xlab = ax0.set_xlabel(None)\n",
    "ax0.set_title('Total Order by Hour')\n",
    "ax0.set_xticks(hour_data['hour'])\n",
    "ax0.grid(color = \"gray\")\n",
    "ax0.yaxis.set_major_formatter(ticker.StrMethodFormatter('{x:,.0f}'))\n",
    "ax0.axhline(hour_data['total_order'].mean(), color = \"#040f13\", linestyle='--', label = \"mean\")\n",
    "ax0.annotate('mean = ' + str(format(hour_data['total_order'].mean(), ',.0f')), xy = (ax0.get_xlim()[0]+0.6, hour_data['total_order'].mean()), ha = \"left\", va=\"bottom\", color = \"#040f13\")\n",
    "\n",
    "# Total sales by hour\n",
    "sns.lineplot(data = hour_data.sort_values('hour', ascending=True), x = 'hour', y = 'total_sales', ax = ax1, color=\"#50a45e\")\n",
    "ylab = ax1.set_ylabel('Total Sales (USD)')\n",
    "xlab = ax1.set_xlabel(None)\n",
    "ax1.set_title('Total Sales by Hour')\n",
    "ax1.set_xticks(hour_data['hour'])\n",
    "ax1.grid(color = \"gray\")\n",
    "ax1.yaxis.set_major_formatter(ticker.StrMethodFormatter('{x:,.0f}'))\n",
    "ax1.axhline(hour_data['total_sales'].mean(), color = \"#040f13\", linestyle='--', label = \"mean\")\n",
    "ax1.annotate('mean = ' + str(format(hour_data['total_sales'].mean(), ',.0f')), xy = (ax1.get_xlim()[0]+0.6, hour_data['total_sales'].mean()), ha = \"left\", va=\"bottom\", color = \"#040f13\")"
   ]
  },
  {
   "attachments": {},
   "cell_type": "markdown",
   "metadata": {},
   "source": [
    "### Area with the highest number of sales or order"
   ]
  },
  {
   "cell_type": "code",
   "execution_count": 258,
   "metadata": {},
   "outputs": [],
   "source": [
    "# Create subset of dataset without 2020-01 data\n",
    "df_sub = df[df['year_month'] != '2020-01']"
   ]
  },
  {
   "cell_type": "code",
   "execution_count": 259,
   "metadata": {},
   "outputs": [
    {
     "data": {
      "text/html": [
       "<div>\n",
       "<style scoped>\n",
       "    .dataframe tbody tr th:only-of-type {\n",
       "        vertical-align: middle;\n",
       "    }\n",
       "\n",
       "    .dataframe tbody tr th {\n",
       "        vertical-align: top;\n",
       "    }\n",
       "\n",
       "    .dataframe thead th {\n",
       "        text-align: right;\n",
       "    }\n",
       "</style>\n",
       "<table border=\"1\" class=\"dataframe\">\n",
       "  <thead>\n",
       "    <tr style=\"text-align: right;\">\n",
       "      <th></th>\n",
       "      <th>city_state</th>\n",
       "      <th>total_order</th>\n",
       "      <th>total_sales</th>\n",
       "    </tr>\n",
       "  </thead>\n",
       "  <tbody>\n",
       "    <tr>\n",
       "      <th>8</th>\n",
       "      <td>San Francisco, CA</td>\n",
       "      <td>42887</td>\n",
       "      <td>8252258.670</td>\n",
       "    </tr>\n",
       "    <tr>\n",
       "      <th>4</th>\n",
       "      <td>Los Angeles, CA</td>\n",
       "      <td>28497</td>\n",
       "      <td>5447304.290</td>\n",
       "    </tr>\n",
       "    <tr>\n",
       "      <th>5</th>\n",
       "      <td>New York City, NY</td>\n",
       "      <td>23840</td>\n",
       "      <td>4660526.520</td>\n",
       "    </tr>\n",
       "    <tr>\n",
       "      <th>2</th>\n",
       "      <td>Boston, MA</td>\n",
       "      <td>19088</td>\n",
       "      <td>3657300.760</td>\n",
       "    </tr>\n",
       "    <tr>\n",
       "      <th>0</th>\n",
       "      <td>Atlanta, GA</td>\n",
       "      <td>14253</td>\n",
       "      <td>2794199.070</td>\n",
       "    </tr>\n",
       "    <tr>\n",
       "      <th>3</th>\n",
       "      <td>Dallas, TX</td>\n",
       "      <td>14238</td>\n",
       "      <td>2763659.010</td>\n",
       "    </tr>\n",
       "    <tr>\n",
       "      <th>9</th>\n",
       "      <td>Seattle, WA</td>\n",
       "      <td>14118</td>\n",
       "      <td>2744896.030</td>\n",
       "    </tr>\n",
       "    <tr>\n",
       "      <th>7</th>\n",
       "      <td>Portland, OR</td>\n",
       "      <td>9615</td>\n",
       "      <td>1869857.570</td>\n",
       "    </tr>\n",
       "    <tr>\n",
       "      <th>1</th>\n",
       "      <td>Austin, TX</td>\n",
       "      <td>9507</td>\n",
       "      <td>1817544.350</td>\n",
       "    </tr>\n",
       "    <tr>\n",
       "      <th>6</th>\n",
       "      <td>Portland, ME</td>\n",
       "      <td>2363</td>\n",
       "      <td>449321.380</td>\n",
       "    </tr>\n",
       "  </tbody>\n",
       "</table>\n",
       "</div>"
      ],
      "text/plain": [
       "           city_state  total_order  total_sales\n",
       "8   San Francisco, CA        42887  8252258.670\n",
       "4     Los Angeles, CA        28497  5447304.290\n",
       "5   New York City, NY        23840  4660526.520\n",
       "2          Boston, MA        19088  3657300.760\n",
       "0         Atlanta, GA        14253  2794199.070\n",
       "3          Dallas, TX        14238  2763659.010\n",
       "9         Seattle, WA        14118  2744896.030\n",
       "7        Portland, OR         9615  1869857.570\n",
       "1          Austin, TX         9507  1817544.350\n",
       "6        Portland, ME         2363   449321.380"
      ]
     },
     "execution_count": 259,
     "metadata": {},
     "output_type": "execute_result"
    }
   ],
   "source": [
    "# Calculate total number of orders and sales by city and states\n",
    "area_data = df_sub.groupby(by=['city_state'], as_index=False).agg(\n",
    "    total_order = ('Order ID', pd.Series.nunique),\n",
    "    total_sales = ('sales', sum),\n",
    "    \n",
    ")\n",
    "\n",
    "area_data.sort_values('total_order', ascending=False).head(10)"
   ]
  },
  {
   "cell_type": "code",
   "execution_count": 260,
   "metadata": {},
   "outputs": [
    {
     "data": {
      "text/plain": [
       "Text(8.5, 3445686.7650000006, 'mean = 3,445,687')"
      ]
     },
     "execution_count": 260,
     "metadata": {},
     "output_type": "execute_result"
    },
    {
     "data": {
      "image/png": "[encoded data removed]",
      "text/plain": [
       "<Figure size 1440x576 with 1 Axes>"
      ]
     },
     "metadata": {
      "needs_background": "light"
     },
     "output_type": "display_data"
    }
   ],
   "source": [
    "# Create bar chart for total sales by top 10 cities and its states\n",
    "\n",
    "# Define subplot grid\n",
    "fig, (ax0) = plt.subplots(1,1, figsize = [20,8], sharex=False)\n",
    "fig.tight_layout()\n",
    "fig.set_tight_layout(True)\n",
    "fig.suptitle(\"Total Sales in USD by Top 10 Cities\", fontsize=18, y=1)\n",
    "fig.subplots_adjust(top=1.5, hspace=.5, wspace=.5)\n",
    "\n",
    "# Total sales by top 10 cities\n",
    "sns.barplot(data = area_data.sort_values('total_sales', ascending=False).head(10), x = 'city_state', y = 'total_sales', ax = ax0, color=\"#50a45e\")\n",
    "ylab = ax0.set_ylabel('Total Sales (USD)')\n",
    "xlab = ax0.set_xlabel(None)\n",
    "ax0.set_title('Total Sales by Top 10 Cities')\n",
    "ax0.yaxis.set_major_formatter(ticker.StrMethodFormatter('{x:,.0f}'))\n",
    "ax0.axhline(area_data['total_sales'].mean(), color = \"#040f13\", linestyle='--', label = \"mean\")\n",
    "ax0.annotate('mean = ' + str(format(area_data['total_sales'].mean(), ',.0f')), xy = (ax0.get_xlim()[0]+9.0, area_data['total_sales'].mean()), ha = \"left\", va=\"bottom\", color = \"#040f13\")"
   ]
  },
  {
   "attachments": {},
   "cell_type": "markdown",
   "metadata": {},
   "source": [
    "### Products with the highest overall number of order and sales"
   ]
  },
  {
   "cell_type": "code",
   "execution_count": 261,
   "metadata": {},
   "outputs": [
    {
     "data": {
      "text/html": [
       "<div>\n",
       "<style scoped>\n",
       "    .dataframe tbody tr th:only-of-type {\n",
       "        vertical-align: middle;\n",
       "    }\n",
       "\n",
       "    .dataframe tbody tr th {\n",
       "        vertical-align: top;\n",
       "    }\n",
       "\n",
       "    .dataframe thead th {\n",
       "        text-align: right;\n",
       "    }\n",
       "</style>\n",
       "<table border=\"1\" class=\"dataframe\">\n",
       "  <thead>\n",
       "    <tr style=\"text-align: right;\">\n",
       "      <th></th>\n",
       "      <th>Product</th>\n",
       "      <th>total_order</th>\n",
       "      <th>total_sales</th>\n",
       "    </tr>\n",
       "  </thead>\n",
       "  <tbody>\n",
       "    <tr>\n",
       "      <th>15</th>\n",
       "      <td>USB-C Charging Cable</td>\n",
       "      <td>21851</td>\n",
       "      <td>285927.650</td>\n",
       "    </tr>\n",
       "    <tr>\n",
       "      <th>12</th>\n",
       "      <td>Lightning Charging Cable</td>\n",
       "      <td>21599</td>\n",
       "      <td>346286.850</td>\n",
       "    </tr>\n",
       "    <tr>\n",
       "      <th>5</th>\n",
       "      <td>AAA Batteries (4-pack)</td>\n",
       "      <td>20590</td>\n",
       "      <td>92633.190</td>\n",
       "    </tr>\n",
       "    <tr>\n",
       "      <th>4</th>\n",
       "      <td>AA Batteries (4-pack)</td>\n",
       "      <td>20542</td>\n",
       "      <td>106041.600</td>\n",
       "    </tr>\n",
       "    <tr>\n",
       "      <th>17</th>\n",
       "      <td>Wired Headphones</td>\n",
       "      <td>18846</td>\n",
       "      <td>246034.800</td>\n",
       "    </tr>\n",
       "  </tbody>\n",
       "</table>\n",
       "</div>"
      ],
      "text/plain": [
       "                     Product  total_order  total_sales\n",
       "15      USB-C Charging Cable        21851   285927.650\n",
       "12  Lightning Charging Cable        21599   346286.850\n",
       "5     AAA Batteries (4-pack)        20590    92633.190\n",
       "4      AA Batteries (4-pack)        20542   106041.600\n",
       "17          Wired Headphones        18846   246034.800"
      ]
     },
     "execution_count": 261,
     "metadata": {},
     "output_type": "execute_result"
    }
   ],
   "source": [
    "# Calculate total number of sales by product\n",
    "product_data = df_sub.groupby(by=['Product'], as_index=False).agg(\n",
    "    total_order = ('Order ID', pd.Series.nunique),\n",
    "    total_sales = ('sales', sum),\n",
    "    \n",
    ")\n",
    "\n",
    "product_data.sort_values('total_order', ascending=False).head()"
   ]
  },
  {
   "cell_type": "code",
   "execution_count": 262,
   "metadata": {},
   "outputs": [
    {
     "data": {
      "text/html": [
       "<div>\n",
       "<style scoped>\n",
       "    .dataframe tbody tr th:only-of-type {\n",
       "        vertical-align: middle;\n",
       "    }\n",
       "\n",
       "    .dataframe tbody tr th {\n",
       "        vertical-align: top;\n",
       "    }\n",
       "\n",
       "    .dataframe thead th {\n",
       "        text-align: right;\n",
       "    }\n",
       "</style>\n",
       "<table border=\"1\" class=\"dataframe\">\n",
       "  <thead>\n",
       "    <tr style=\"text-align: right;\">\n",
       "      <th></th>\n",
       "      <th>Product</th>\n",
       "      <th>total_order</th>\n",
       "      <th>total_sales</th>\n",
       "    </tr>\n",
       "  </thead>\n",
       "  <tbody>\n",
       "    <tr>\n",
       "      <th>13</th>\n",
       "      <td>Macbook Pro Laptop</td>\n",
       "      <td>4720</td>\n",
       "      <td>8030800.000</td>\n",
       "    </tr>\n",
       "    <tr>\n",
       "      <th>18</th>\n",
       "      <td>iPhone</td>\n",
       "      <td>6838</td>\n",
       "      <td>4791500.000</td>\n",
       "    </tr>\n",
       "    <tr>\n",
       "      <th>14</th>\n",
       "      <td>ThinkPad Laptop</td>\n",
       "      <td>4124</td>\n",
       "      <td>4125958.740</td>\n",
       "    </tr>\n",
       "    <tr>\n",
       "      <th>9</th>\n",
       "      <td>Google Phone</td>\n",
       "      <td>5521</td>\n",
       "      <td>3316800.000</td>\n",
       "    </tr>\n",
       "    <tr>\n",
       "      <th>1</th>\n",
       "      <td>27in 4K Gaming Monitor</td>\n",
       "      <td>6224</td>\n",
       "      <td>2432757.620</td>\n",
       "    </tr>\n",
       "  </tbody>\n",
       "</table>\n",
       "</div>"
      ],
      "text/plain": [
       "                   Product  total_order  total_sales\n",
       "13      Macbook Pro Laptop         4720  8030800.000\n",
       "18                  iPhone         6838  4791500.000\n",
       "14         ThinkPad Laptop         4124  4125958.740\n",
       "9             Google Phone         5521  3316800.000\n",
       "1   27in 4K Gaming Monitor         6224  2432757.620"
      ]
     },
     "execution_count": 262,
     "metadata": {},
     "output_type": "execute_result"
    }
   ],
   "source": [
    "product_data.sort_values('total_sales', ascending=False).head()"
   ]
  },
  {
   "cell_type": "code",
   "execution_count": 274,
   "metadata": {},
   "outputs": [
    {
     "data": {
      "text/plain": [
       "Text(-0.3, 1813519.3500000003, 'mean = 1,813,519')"
      ]
     },
     "execution_count": 274,
     "metadata": {},
     "output_type": "execute_result"
    },
    {
     "data": {
      "image/png": "[encoded data removed]",
      "text/plain": [
       "<Figure size 1440x576 with 2 Axes>"
      ]
     },
     "metadata": {
      "needs_background": "light"
     },
     "output_type": "display_data"
    }
   ],
   "source": [
    "# Create bar chart for total order and total sales by top products\n",
    "\n",
    "# Define subplot grid\n",
    "fig, (ax0, ax1) = plt.subplots(1,2, figsize = [20,8], sharex=False)\n",
    "fig.tight_layout()\n",
    "fig.set_tight_layout(True)\n",
    "fig.suptitle(\"Total Order and Total Sales by Top Product\", fontsize=18, y=1)\n",
    "fig.subplots_adjust(top=1.5, hspace=.5, wspace=.5)\n",
    "\n",
    "# Total order by top product\n",
    "sns.barplot(data = product_data.sort_values('total_order', ascending=False).head(), x = 'Product', y = 'total_order', ax = ax0, color=\"#2596be\")\n",
    "ylab = ax0.set_ylabel('Total Order')\n",
    "xlab = ax0.set_xlabel(None)\n",
    "ax0.set_title('Total Order by Top Product')\n",
    "ax0.yaxis.set_major_formatter(ticker.StrMethodFormatter('{x:,.0f}'))\n",
    "ax0.axhline(product_data['total_order'].mean(), color = \"#040f13\", linestyle='--', label = \"mean\")\n",
    "ax0.annotate('mean = ' + str(format(product_data['total_order'].mean(), ',.0f')), xy = (ax0.get_xlim()[0]+0.2, product_data['total_order'].mean()), ha = \"left\", va=\"bottom\", color = \"#040f13\")\n",
    "\n",
    "# Total sales by top product\n",
    "sns.barplot(data = product_data.sort_values('total_sales', ascending=False).head(), x = 'Product', y = 'total_sales', ax = ax1, color=\"#50a45e\")\n",
    "ylab = ax1.set_ylabel('Total Sales (USD)')\n",
    "xlab = ax1.set_xlabel(None)\n",
    "ax1.set_title('Total Sales by Top Product')\n",
    "ax1.yaxis.set_major_formatter(ticker.StrMethodFormatter('{x:,.0f}'))\n",
    "ax1.axhline(product_data['total_sales'].mean(), color = \"#040f13\", linestyle='--', label = \"mean\")\n",
    "ax1.annotate('mean = ' + str(format(product_data['total_sales'].mean(), ',.0f')), xy = (ax0.get_xlim()[0]+0.2, product_data['total_sales'].mean()), ha = \"left\", va=\"bottom\", color = \"#040f13\")\n"
   ]
  },
  {
   "attachments": {},
   "cell_type": "markdown",
   "metadata": {},
   "source": [
    "#### Top 5 products in the top highest sales cities (SF, LA, NYC)"
   ]
  },
  {
   "cell_type": "code",
   "execution_count": 263,
   "metadata": {},
   "outputs": [],
   "source": [
    "# Define top three cities with highest sales\n",
    "top_cities = area_data.sort_values('total_sales', ascending=False)['city_state'].head(3).to_list()"
   ]
  },
  {
   "cell_type": "code",
   "execution_count": 264,
   "metadata": {},
   "outputs": [],
   "source": [
    "# Determine top products by sales number in each city\n",
    "product_city = df_sub.groupby(by=['city_state', 'Product'], as_index=False).agg(\n",
    "    total_sales = ('sales', sum)\n",
    ")\n",
    "\n",
    "product_city = product_city.sort_values(['total_sales'], ascending=False)\n",
    "    "
   ]
  },
  {
   "attachments": {},
   "cell_type": "markdown",
   "metadata": {},
   "source": [
    "##### Top 5 products for San Francisco"
   ]
  },
  {
   "cell_type": "code",
   "execution_count": 265,
   "metadata": {},
   "outputs": [
    {
     "data": {
      "text/html": [
       "<div>\n",
       "<style scoped>\n",
       "    .dataframe tbody tr th:only-of-type {\n",
       "        vertical-align: middle;\n",
       "    }\n",
       "\n",
       "    .dataframe tbody tr th {\n",
       "        vertical-align: top;\n",
       "    }\n",
       "\n",
       "    .dataframe thead th {\n",
       "        text-align: right;\n",
       "    }\n",
       "</style>\n",
       "<table border=\"1\" class=\"dataframe\">\n",
       "  <thead>\n",
       "    <tr style=\"text-align: right;\">\n",
       "      <th></th>\n",
       "      <th>city_state</th>\n",
       "      <th>Product</th>\n",
       "      <th>total_sales</th>\n",
       "    </tr>\n",
       "  </thead>\n",
       "  <tbody>\n",
       "    <tr>\n",
       "      <th>165</th>\n",
       "      <td>San Francisco, CA</td>\n",
       "      <td>Macbook Pro Laptop</td>\n",
       "      <td>1929500.000</td>\n",
       "    </tr>\n",
       "    <tr>\n",
       "      <th>170</th>\n",
       "      <td>San Francisco, CA</td>\n",
       "      <td>iPhone</td>\n",
       "      <td>1161300.000</td>\n",
       "    </tr>\n",
       "    <tr>\n",
       "      <th>166</th>\n",
       "      <td>San Francisco, CA</td>\n",
       "      <td>ThinkPad Laptop</td>\n",
       "      <td>962990.370</td>\n",
       "    </tr>\n",
       "    <tr>\n",
       "      <th>161</th>\n",
       "      <td>San Francisco, CA</td>\n",
       "      <td>Google Phone</td>\n",
       "      <td>813600.000</td>\n",
       "    </tr>\n",
       "    <tr>\n",
       "      <th>153</th>\n",
       "      <td>San Francisco, CA</td>\n",
       "      <td>27in 4K Gaming Monitor</td>\n",
       "      <td>568605.420</td>\n",
       "    </tr>\n",
       "  </tbody>\n",
       "</table>\n",
       "</div>"
      ],
      "text/plain": [
       "             city_state                 Product  total_sales\n",
       "165   San Francisco, CA      Macbook Pro Laptop  1929500.000\n",
       "170   San Francisco, CA                  iPhone  1161300.000\n",
       "166   San Francisco, CA         ThinkPad Laptop   962990.370\n",
       "161   San Francisco, CA            Google Phone   813600.000\n",
       "153   San Francisco, CA  27in 4K Gaming Monitor   568605.420"
      ]
     },
     "execution_count": 265,
     "metadata": {},
     "output_type": "execute_result"
    }
   ],
   "source": [
    "product_city[product_city['city_state'] == top_cities[0]].head(5)"
   ]
  },
  {
   "attachments": {},
   "cell_type": "markdown",
   "metadata": {},
   "source": [
    "##### Top 5 products for Los Angeles"
   ]
  },
  {
   "cell_type": "code",
   "execution_count": 266,
   "metadata": {},
   "outputs": [
    {
     "data": {
      "text/html": [
       "<div>\n",
       "<style scoped>\n",
       "    .dataframe tbody tr th:only-of-type {\n",
       "        vertical-align: middle;\n",
       "    }\n",
       "\n",
       "    .dataframe tbody tr th {\n",
       "        vertical-align: top;\n",
       "    }\n",
       "\n",
       "    .dataframe thead th {\n",
       "        text-align: right;\n",
       "    }\n",
       "</style>\n",
       "<table border=\"1\" class=\"dataframe\">\n",
       "  <thead>\n",
       "    <tr style=\"text-align: right;\">\n",
       "      <th></th>\n",
       "      <th>city_state</th>\n",
       "      <th>Product</th>\n",
       "      <th>total_sales</th>\n",
       "    </tr>\n",
       "  </thead>\n",
       "  <tbody>\n",
       "    <tr>\n",
       "      <th>89</th>\n",
       "      <td>Los Angeles, CA</td>\n",
       "      <td>Macbook Pro Laptop</td>\n",
       "      <td>1275000.000</td>\n",
       "    </tr>\n",
       "    <tr>\n",
       "      <th>94</th>\n",
       "      <td>Los Angeles, CA</td>\n",
       "      <td>iPhone</td>\n",
       "      <td>782600.000</td>\n",
       "    </tr>\n",
       "    <tr>\n",
       "      <th>90</th>\n",
       "      <td>Los Angeles, CA</td>\n",
       "      <td>ThinkPad Laptop</td>\n",
       "      <td>638993.610</td>\n",
       "    </tr>\n",
       "    <tr>\n",
       "      <th>85</th>\n",
       "      <td>Los Angeles, CA</td>\n",
       "      <td>Google Phone</td>\n",
       "      <td>508800.000</td>\n",
       "    </tr>\n",
       "    <tr>\n",
       "      <th>77</th>\n",
       "      <td>Los Angeles, CA</td>\n",
       "      <td>27in 4K Gaming Monitor</td>\n",
       "      <td>391159.970</td>\n",
       "    </tr>\n",
       "  </tbody>\n",
       "</table>\n",
       "</div>"
      ],
      "text/plain": [
       "          city_state                 Product  total_sales\n",
       "89   Los Angeles, CA      Macbook Pro Laptop  1275000.000\n",
       "94   Los Angeles, CA                  iPhone   782600.000\n",
       "90   Los Angeles, CA         ThinkPad Laptop   638993.610\n",
       "85   Los Angeles, CA            Google Phone   508800.000\n",
       "77   Los Angeles, CA  27in 4K Gaming Monitor   391159.970"
      ]
     },
     "execution_count": 266,
     "metadata": {},
     "output_type": "execute_result"
    }
   ],
   "source": [
    "product_city[product_city['city_state'] == top_cities[1]].head(5)"
   ]
  },
  {
   "attachments": {},
   "cell_type": "markdown",
   "metadata": {},
   "source": [
    "##### Top 5 products for New York City"
   ]
  },
  {
   "cell_type": "code",
   "execution_count": 267,
   "metadata": {},
   "outputs": [
    {
     "data": {
      "text/html": [
       "<div>\n",
       "<style scoped>\n",
       "    .dataframe tbody tr th:only-of-type {\n",
       "        vertical-align: middle;\n",
       "    }\n",
       "\n",
       "    .dataframe tbody tr th {\n",
       "        vertical-align: top;\n",
       "    }\n",
       "\n",
       "    .dataframe thead th {\n",
       "        text-align: right;\n",
       "    }\n",
       "</style>\n",
       "<table border=\"1\" class=\"dataframe\">\n",
       "  <thead>\n",
       "    <tr style=\"text-align: right;\">\n",
       "      <th></th>\n",
       "      <th>city_state</th>\n",
       "      <th>Product</th>\n",
       "      <th>total_sales</th>\n",
       "    </tr>\n",
       "  </thead>\n",
       "  <tbody>\n",
       "    <tr>\n",
       "      <th>108</th>\n",
       "      <td>New York City, NY</td>\n",
       "      <td>Macbook Pro Laptop</td>\n",
       "      <td>1116900.000</td>\n",
       "    </tr>\n",
       "    <tr>\n",
       "      <th>113</th>\n",
       "      <td>New York City, NY</td>\n",
       "      <td>iPhone</td>\n",
       "      <td>616000.000</td>\n",
       "    </tr>\n",
       "    <tr>\n",
       "      <th>109</th>\n",
       "      <td>New York City, NY</td>\n",
       "      <td>ThinkPad Laptop</td>\n",
       "      <td>559994.400</td>\n",
       "    </tr>\n",
       "    <tr>\n",
       "      <th>104</th>\n",
       "      <td>New York City, NY</td>\n",
       "      <td>Google Phone</td>\n",
       "      <td>454200.000</td>\n",
       "    </tr>\n",
       "    <tr>\n",
       "      <th>98</th>\n",
       "      <td>New York City, NY</td>\n",
       "      <td>34in Ultrawide Monitor</td>\n",
       "      <td>329451.330</td>\n",
       "    </tr>\n",
       "  </tbody>\n",
       "</table>\n",
       "</div>"
      ],
      "text/plain": [
       "             city_state                 Product  total_sales\n",
       "108   New York City, NY      Macbook Pro Laptop  1116900.000\n",
       "113   New York City, NY                  iPhone   616000.000\n",
       "109   New York City, NY         ThinkPad Laptop   559994.400\n",
       "104   New York City, NY            Google Phone   454200.000\n",
       "98    New York City, NY  34in Ultrawide Monitor   329451.330"
      ]
     },
     "execution_count": 267,
     "metadata": {},
     "output_type": "execute_result"
    }
   ],
   "source": [
    "product_city[product_city['city_state'] == top_cities[2]].head(5)"
   ]
  },
  {
   "attachments": {},
   "cell_type": "markdown",
   "metadata": {},
   "source": [
    "### Products that are oftenly sold together"
   ]
  },
  {
   "cell_type": "code",
   "execution_count": 268,
   "metadata": {},
   "outputs": [],
   "source": [
    "# Identify column of the same order ID with multiple purchases\n",
    "duplicate_df = df_sub[df_sub['Order ID'].duplicated(keep=False)].sort_values(['Order ID', 'Product'], ascending=True)\n",
    "\n",
    "# Grouped products with the same order ID\n",
    "duplicate_df['grouped_product'] = duplicate_df.groupby(['Order ID'])['Product'].transform(lambda x: ','.join(x))\n",
    "grouped_df = duplicate_df[['Order ID', 'grouped_product']].drop_duplicates()\n"
   ]
  },
  {
   "cell_type": "code",
   "execution_count": 269,
   "metadata": {},
   "outputs": [
    {
     "data": {
      "text/html": [
       "<div>\n",
       "<style scoped>\n",
       "    .dataframe tbody tr th:only-of-type {\n",
       "        vertical-align: middle;\n",
       "    }\n",
       "\n",
       "    .dataframe tbody tr th {\n",
       "        vertical-align: top;\n",
       "    }\n",
       "\n",
       "    .dataframe thead th {\n",
       "        text-align: right;\n",
       "    }\n",
       "</style>\n",
       "<table border=\"1\" class=\"dataframe\">\n",
       "  <thead>\n",
       "    <tr style=\"text-align: right;\">\n",
       "      <th></th>\n",
       "      <th>grouped_product</th>\n",
       "      <th>total_order</th>\n",
       "    </tr>\n",
       "  </thead>\n",
       "  <tbody>\n",
       "    <tr>\n",
       "      <th>191</th>\n",
       "      <td>Lightning Charging Cable,iPhone</td>\n",
       "      <td>894</td>\n",
       "    </tr>\n",
       "    <tr>\n",
       "      <th>165</th>\n",
       "      <td>Google Phone,USB-C Charging Cable</td>\n",
       "      <td>869</td>\n",
       "    </tr>\n",
       "    <tr>\n",
       "      <th>210</th>\n",
       "      <td>Wired Headphones,iPhone</td>\n",
       "      <td>374</td>\n",
       "    </tr>\n",
       "    <tr>\n",
       "      <th>201</th>\n",
       "      <td>USB-C Charging Cable,Vareebadd Phone</td>\n",
       "      <td>318</td>\n",
       "    </tr>\n",
       "    <tr>\n",
       "      <th>170</th>\n",
       "      <td>Google Phone,Wired Headphones</td>\n",
       "      <td>311</td>\n",
       "    </tr>\n",
       "    <tr>\n",
       "      <th>128</th>\n",
       "      <td>Apple Airpods Headphones,iPhone</td>\n",
       "      <td>298</td>\n",
       "    </tr>\n",
       "    <tr>\n",
       "      <th>131</th>\n",
       "      <td>Bose SoundSport Headphones,Google Phone</td>\n",
       "      <td>169</td>\n",
       "    </tr>\n",
       "    <tr>\n",
       "      <th>206</th>\n",
       "      <td>Vareebadd Phone,Wired Headphones</td>\n",
       "      <td>110</td>\n",
       "    </tr>\n",
       "    <tr>\n",
       "      <th>81</th>\n",
       "      <td>AA Batteries (4-pack),Lightning Charging Cable</td>\n",
       "      <td>103</td>\n",
       "    </tr>\n",
       "    <tr>\n",
       "      <th>184</th>\n",
       "      <td>Lightning Charging Cable,USB-C Charging Cable</td>\n",
       "      <td>96</td>\n",
       "    </tr>\n",
       "  </tbody>\n",
       "</table>\n",
       "</div>"
      ],
      "text/plain": [
       "                                    grouped_product  total_order\n",
       "191                 Lightning Charging Cable,iPhone          894\n",
       "165               Google Phone,USB-C Charging Cable          869\n",
       "210                         Wired Headphones,iPhone          374\n",
       "201            USB-C Charging Cable,Vareebadd Phone          318\n",
       "170                   Google Phone,Wired Headphones          311\n",
       "128                 Apple Airpods Headphones,iPhone          298\n",
       "131         Bose SoundSport Headphones,Google Phone          169\n",
       "206                Vareebadd Phone,Wired Headphones          110\n",
       "81   AA Batteries (4-pack),Lightning Charging Cable          103\n",
       "184   Lightning Charging Cable,USB-C Charging Cable           96"
      ]
     },
     "execution_count": 269,
     "metadata": {},
     "output_type": "execute_result"
    }
   ],
   "source": [
    "# Calculate number of unique Order ID and total sales by grouped_product\n",
    "\n",
    "grouped_product_data = grouped_df.groupby(by=['grouped_product'], as_index=False).agg(\n",
    "    total_order = ('Order ID', pd.Series.nunique)\n",
    ")\n",
    "\n",
    "grouped_product_data.sort_values('total_order', ascending=False).head(10)"
   ]
  }
 ],
 "metadata": {
  "kernelspec": {
   "display_name": "py_main",
   "language": "python",
   "name": "py_main"
  },
  "language_info": {
   "codemirror_mode": {
    "name": "ipython",
    "version": 3
   },
   "file_extension": ".py",
   "mimetype": "text/x-python",
   "name": "python",
   "nbconvert_exporter": "python",
   "pygments_lexer": "ipython3",
   "version": "3.9.15 (main, Nov 24 2022, 08:29:02) \n[Clang 14.0.6 ]"
  },
  "orig_nbformat": 4
 },
 "nbformat": 4,
 "nbformat_minor": 2
}
